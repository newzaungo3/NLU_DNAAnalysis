{
 "metadata": {
  "language_info": {
   "codemirror_mode": {
    "name": "ipython",
    "version": 3
   },
   "file_extension": ".py",
   "mimetype": "text/x-python",
   "name": "python",
   "nbconvert_exporter": "python",
   "pygments_lexer": "ipython3",
   "version": 3
  },
  "orig_nbformat": 2
 },
 "nbformat": 4,
 "nbformat_minor": 2,
 "cells": [
  {
   "cell_type": "code",
   "execution_count": null,
   "metadata": {},
   "outputs": [],
   "source": [
    "from Bio.SeqIO import parse \n",
    "from Bio.SeqRecord import SeqRecord \n",
    "from Bio.Seq import Seq \n",
    "\n",
    "file = open(\"./dataset/gbbct1.seq\")"
   ]
  },
  {
   "cell_type": "code",
   "execution_count": null,
   "metadata": {},
   "outputs": [],
   "source": [
    "for record in parse(file, \"genbank\"):\n",
    "    print(repr(record.seq))\n",
    "    print(\"Length of DNA sequence \" + str(len(record)))\n",
    "    coding_dna = record.seq\n",
    "    #Reverse\n",
    "    templete_dna = coding_dna.reverse_complement()\n",
    "\n",
    "    #Transciption to mRNA\n",
    "    messenger_rna = coding_dna.transcribe()\n",
    "    print(repr(messenger_rna))\n",
    "\n",
    "    break"
   ]
  }
 ]
}